{
 "cells": [
  {
   "cell_type": "code",
   "execution_count": 1,
   "metadata": {},
   "outputs": [],
   "source": [
    "from calibrationFunctions import openFiles, calculateForce, calculateTetherExtension, findTetheredBeads\n",
    "import matplotlib.pyplot as plt\n",
    "import numpy as np"
   ]
  },
  {
   "cell_type": "markdown",
   "metadata": {},
   "source": [
    "# Test 1"
   ]
  },
  {
   "cell_type": "code",
   "execution_count": null,
   "metadata": {},
   "outputs": [],
   "source": [
    "folderPath = r\"C:\\Users\\Perkins Lab\\Desktop\\Caleb Maddry\\Data\\2025\\January\\8\\Test1\\DataTSV\"\n",
    "\n",
    "dataFrame = openFiles(folderPath, numRef=2, numExp=2, fps=400)"
   ]
  },
  {
   "cell_type": "markdown",
   "metadata": {},
   "source": [
    "# Test 2"
   ]
  },
  {
   "cell_type": "code",
   "execution_count": null,
   "metadata": {},
   "outputs": [],
   "source": [
    "folderPath = r\"C:\\Users\\Perkins Lab\\Desktop\\Caleb Maddry\\Data\\2025\\January\\8\\Test2\\DataTSV\"\n",
    "\n",
    "dataFrame = openFiles(folderPath, numRef=3, numExp=2, fps=400)"
   ]
  }
 ],
 "metadata": {
  "kernelspec": {
   "display_name": "Python 3",
   "language": "python",
   "name": "python3"
  },
  "language_info": {
   "codemirror_mode": {
    "name": "ipython",
    "version": 3
   },
   "file_extension": ".py",
   "mimetype": "text/x-python",
   "name": "python",
   "nbconvert_exporter": "python",
   "pygments_lexer": "ipython3",
   "version": "3.11.2"
  }
 },
 "nbformat": 4,
 "nbformat_minor": 2
}
