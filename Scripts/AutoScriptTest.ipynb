{
 "cells": [
  {
   "cell_type": "code",
   "execution_count": 165,
   "metadata": {},
   "outputs": [],
   "source": [
    "import pandas as pd\n",
    "import numpy as np \n",
    "import matplotlib.pyplot as plt\n",
    "import glob\n",
    "import corner, emcee, tqdm\n",
    "from tweezepy import AV, PSD, MLE\n",
    "import os"
   ]
  },
  {
   "cell_type": "code",
   "execution_count": 166,
   "metadata": {},
   "outputs": [
    {
     "name": "stdout",
     "output_type": "stream",
     "text": [
      "Using: C:\\Users\\maddr\\OneDrive\\Documents\\MTCode\\Magnetic-Tweezers\\Data\\October\\6\\1\\dataTSV\n"
     ]
    }
   ],
   "source": [
    "## Opens the folder and stores the data within the files into a Pandas Dataframe\n",
    "# Requests the folder location from the user\n",
    "folderPath = input(\"Type the path to the folder location:\")\n",
    "\n",
    "# Checks to see if the path is correct and returns an error if it is not\n",
    "if os.path.exists(folderPath):\n",
    "    print(\"Using: \" + folderPath)\n",
    "else: \n",
    "    raise FileNotFoundError('No such file or directory.')\n",
    "\n",
    "# Requests the number of reference and experimental beads from the user to create list of the bead names\n",
    "numRef = int(input(\"Number of reference beads:\"))\n",
    "numExp = int(input(\"Number of experimental beads:\"))\n",
    "\n",
    "# Initialization of that list\n",
    "nameList = [\"inf\",\"linearMotor\",\"rotationalMotor\"]\n",
    "\n",
    "# Adds names to the list depending on how many beads were given\n",
    "for i in range(numRef):\n",
    "    nameList = nameList + [\"xRefBead\"+str(i+1), \"yRefBead\"+str(i+1), \"zRefBead\"+str(i+1)]\n",
    "for i in range(numExp): \n",
    "    nameList = nameList + [\"xExpBead\"+str(i+1), \"yExpBead\"+str(i+1), \"zExpBead\"+str(i+1)]\n",
    "\n",
    "# Stores the file names into a list\n",
    "files = glob.glob(folderPath + '/*.txt')\n",
    "\n",
    "# Turns the data into a table, then concatenates this table into a Pandas dataframe \n",
    "dataTable = [pd.read_table(files[i], names=nameList) for i in range(len(files))]\n",
    "dataFrame = pd.concat([pd.DataFrame(dataTable[i], columns=nameList) for i in range(len(files))],\n",
    "          ignore_index=True)\n",
    "\n",
    "# Uses the conversion values to convert the pixels to nanometers. Also converts the z-axis to nm from um\n",
    "xConv = 64.6\n",
    "yConv = 64.7\n",
    "for column in dataFrame.columns:\n",
    "    if column[0] == 'x': dataFrame[column] = dataFrame[column]*xConv\n",
    "    if column[0] == 'y': dataFrame[column] = dataFrame[column]*yConv\n",
    "    if column[0] == 'z': dataFrame[column] = dataFrame[column]*1000\n",
    "\n",
    "# Requests the fps and then creates a time series from this\n",
    "fps = int(input(\"Frames per second:\"))\n",
    "timeVector = pd.Series(range(len(dataFrame)))/400"
   ]
  },
  {
   "cell_type": "code",
   "execution_count": 183,
   "metadata": {},
   "outputs": [],
   "source": [
    "# lowForceStart = 40000\n",
    "# lowForceEnd = 60000\n",
    "lowForce = []\n",
    "highForce = []\n",
    "mediumForce = []\n",
    "for index, row in dataFrame.iterrows():\n",
    "    if row['linearMotor'] < 15:\n",
    "        lowForce = lowForce + [index]\n",
    "    if row['linearMotor'] > 15 & row['linearMotor'] < 28:\n",
    "        highForce = highForce + [index]"
   ]
  },
  {
   "cell_type": "code",
   "execution_count": 186,
   "metadata": {},
   "outputs": [
    {
     "data": {
      "text/plain": [
       "64013"
      ]
     },
     "execution_count": 186,
     "metadata": {},
     "output_type": "execute_result"
    }
   ],
   "source": [
    "\n",
    "plt.plot()"
   ]
  },
  {
   "cell_type": "code",
   "execution_count": 168,
   "metadata": {},
   "outputs": [
    {
     "data": {
      "text/plain": [
       "0           0.0000\n",
       "1           0.0025\n",
       "2           0.0050\n",
       "3           0.0075\n",
       "4           0.0100\n",
       "            ...   \n",
       "203608    509.0200\n",
       "203609    509.0225\n",
       "203610    509.0250\n",
       "203611    509.0275\n",
       "203612    509.0300\n",
       "Length: 203613, dtype: float64"
      ]
     },
     "execution_count": 168,
     "metadata": {},
     "output_type": "execute_result"
    }
   ],
   "source": [
    "timeVector"
   ]
  },
  {
   "cell_type": "code",
   "execution_count": null,
   "metadata": {},
   "outputs": [],
   "source": []
  }
 ],
 "metadata": {
  "kernelspec": {
   "display_name": "Python 3",
   "language": "python",
   "name": "python3"
  },
  "language_info": {
   "codemirror_mode": {
    "name": "ipython",
    "version": 3
   },
   "file_extension": ".py",
   "mimetype": "text/x-python",
   "name": "python",
   "nbconvert_exporter": "python",
   "pygments_lexer": "ipython3",
   "version": "3.12.3"
  }
 },
 "nbformat": 4,
 "nbformat_minor": 2
}
